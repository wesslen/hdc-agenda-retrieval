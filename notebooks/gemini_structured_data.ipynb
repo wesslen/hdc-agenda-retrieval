{
  "nbformat": 4,
  "nbformat_minor": 0,
  "metadata": {
    "colab": {
      "provenance": [],
      "authorship_tag": "ABX9TyPC6MqZS3kBD7//1gX0Xfig",
      "include_colab_link": true
    },
    "kernelspec": {
      "name": "python3",
      "display_name": "Python 3"
    },
    "language_info": {
      "name": "python"
    }
  },
  "cells": [
    {
      "cell_type": "markdown",
      "metadata": {
        "id": "view-in-github",
        "colab_type": "text"
      },
      "source": [
        "<a href=\"https://colab.research.google.com/github/wesslen/hdc-agenda-retrieval/blob/main/notebooks/gemini_structured_data.ipynb\" target=\"_parent\"><img src=\"https://colab.research.google.com/assets/colab-badge.svg\" alt=\"Open In Colab\"/></a>"
      ]
    },
    {
      "cell_type": "code",
      "execution_count": 1,
      "metadata": {
        "colab": {
          "base_uri": "https://localhost:8080/"
        },
        "id": "aIgNvLEGiH7Z",
        "outputId": "24bf5f59-7c5a-4a45-8532-220374454a5d"
      },
      "outputs": [
        {
          "output_type": "stream",
          "name": "stdout",
          "text": [
            "\u001b[2mUsing Python 3.11.11 environment at /usr\u001b[0m\n",
            "\u001b[2K\u001b[2mResolved \u001b[1m16 packages\u001b[0m \u001b[2min 736ms\u001b[0m\u001b[0m\n",
            "\u001b[2K\u001b[37m⠋\u001b[0m \u001b[2mPreparing packages...\u001b[0m (0/1)\n",
            "\u001b[2K\u001b[1A\u001b[37m⠋\u001b[0m \u001b[2mPreparing packages...\u001b[0m (0/1)\n",
            "\u001b[2K\u001b[1A\u001b[37m⠋\u001b[0m \u001b[2mPreparing packages...\u001b[0m (0/1)\n",
            "\u001b[2K\u001b[1A\u001b[37m⠙\u001b[0m \u001b[2mPreparing packages...\u001b[0m (0/1)\n",
            "\u001b[2K\u001b[1A\u001b[37m⠙\u001b[0m \u001b[2mPreparing packages...\u001b[0m (0/1)\n",
            "\u001b[2K\u001b[1A\u001b[37m⠙\u001b[0m \u001b[2mPreparing packages...\u001b[0m (0/1)\n",
            "\u001b[2K\u001b[1A\u001b[37m⠙\u001b[0m \u001b[2mPreparing packages...\u001b[0m (0/1)\n",
            "\u001b[2K\u001b[1A\u001b[37m⠙\u001b[0m \u001b[2mPreparing packages...\u001b[0m (0/1)\n",
            "\u001b[2K\u001b[1A\u001b[37m⠙\u001b[0m \u001b[2mPreparing packages...\u001b[0m (0/1)\n",
            "\u001b[2K\u001b[1A\u001b[37m⠙\u001b[0m \u001b[2mPreparing packages...\u001b[0m (0/1)\n",
            "\u001b[2K\u001b[2mPrepared \u001b[1m1 package\u001b[0m \u001b[2min 32ms\u001b[0m\u001b[0m\n",
            "\u001b[2mUninstalled \u001b[1m1 package\u001b[0m \u001b[2min 20ms\u001b[0m\u001b[0m\n",
            "\u001b[2K\u001b[2mInstalled \u001b[1m1 package\u001b[0m \u001b[2min 3ms\u001b[0m\u001b[0m\n",
            " \u001b[31m-\u001b[39m \u001b[1mgoogle-genai\u001b[0m\u001b[2m==0.8.0\u001b[0m\n",
            " \u001b[32m+\u001b[39m \u001b[1mgoogle-genai\u001b[0m\u001b[2m==1.0.0\u001b[0m\n"
          ]
        }
      ],
      "source": [
        "!uv pip install --system \"google-genai>=1\""
      ]
    },
    {
      "cell_type": "code",
      "source": [
        "from google import genai\n",
        "from google.colab import userdata\n",
        "# Create a client\n",
        "api_key = userdata.get('GOOGLE_API_KEY')\n",
        "client = genai.Client(api_key=api_key)\n",
        "\n",
        "# Define the model you are going to use\n",
        "model_id =  \"gemini-2.0-flash\""
      ],
      "metadata": {
        "id": "Prf1BenDiM4y"
      },
      "execution_count": 2,
      "outputs": []
    },
    {
      "cell_type": "code",
      "source": [
        "!wget -O agenda.pdf https://github.com/wesslen/hdc-agenda-retrieval/raw/main/data/agenda/2025/00_feburary2025_agenda_final-c.pdf"
      ],
      "metadata": {
        "colab": {
          "base_uri": "https://localhost:8080/"
        },
        "id": "5hpWXMhRietN",
        "outputId": "189ebf7d-eb50-4224-e0a7-e77c5349bb27"
      },
      "execution_count": 4,
      "outputs": [
        {
          "output_type": "stream",
          "name": "stdout",
          "text": [
            "--2025-02-10 01:49:52--  https://github.com/wesslen/hdc-agenda-retrieval/raw/main/data/agenda/2025/00_feburary2025_agenda_final-c.pdf\n",
            "Resolving github.com (github.com)... 140.82.112.3\n",
            "Connecting to github.com (github.com)|140.82.112.3|:443... connected.\n",
            "HTTP request sent, awaiting response... 302 Found\n",
            "Location: https://raw.githubusercontent.com/wesslen/hdc-agenda-retrieval/main/data/agenda/2025/00_feburary2025_agenda_final-c.pdf [following]\n",
            "--2025-02-10 01:49:52--  https://raw.githubusercontent.com/wesslen/hdc-agenda-retrieval/main/data/agenda/2025/00_feburary2025_agenda_final-c.pdf\n",
            "Resolving raw.githubusercontent.com (raw.githubusercontent.com)... 185.199.108.133, 185.199.109.133, 185.199.111.133, ...\n",
            "Connecting to raw.githubusercontent.com (raw.githubusercontent.com)|185.199.108.133|:443... connected.\n",
            "HTTP request sent, awaiting response... 200 OK\n",
            "Length: 167690 (164K) [application/octet-stream]\n",
            "Saving to: ‘agenda.pdf’\n",
            "\n",
            "\ragenda.pdf            0%[                    ]       0  --.-KB/s               \ragenda.pdf          100%[===================>] 163.76K  --.-KB/s    in 0.004s  \n",
            "\n",
            "2025-02-10 01:49:52 (37.6 MB/s) - ‘agenda.pdf’ saved [167690/167690]\n",
            "\n"
          ]
        }
      ]
    },
    {
      "cell_type": "code",
      "source": [
        "agenda_pdf = client.files.upload(file=\"agenda.pdf\", config={'display_name': 'agenda'})"
      ],
      "metadata": {
        "id": "yt2Pc363idp4"
      },
      "execution_count": 5,
      "outputs": []
    },
    {
      "cell_type": "code",
      "source": [
        "file_size = client.models.count_tokens(model=model_id,contents=agenda_pdf)\n",
        "print(f'File: {agenda_pdf.display_name} equals to {file_size.total_tokens} tokens')\n",
        "# File: agenda equals to 1350 tokens"
      ],
      "metadata": {
        "colab": {
          "base_uri": "https://localhost:8080/"
        },
        "id": "mp2jPYgujO_u",
        "outputId": "dee66be9-099f-47d2-cd9e-82360fd04b9a"
      },
      "execution_count": 6,
      "outputs": [
        {
          "output_type": "stream",
          "name": "stdout",
          "text": [
            "File: agenda equals to 1350 tokens\n"
          ]
        }
      ]
    },
    {
      "cell_type": "code",
      "source": [
        "from pydantic import BaseModel, Field\n",
        "\n",
        "def extract_structured_data(file_path: str, model: BaseModel):\n",
        "    # Upload the file to the File API\n",
        "    file = client.files.upload(file=file_path, config={'display_name': file_path.split('/')[-1].split('.')[0]})\n",
        "    # Generate a structured response using the Gemini API\n",
        "    prompt = f\"Extract the structured data from the following PDF file\"\n",
        "    response = client.models.generate_content(model=model_id, contents=[prompt, file], config={'response_mime_type': 'application/json', 'response_schema': model})\n",
        "    # Convert the response to the pydantic model and return it\n",
        "    return response.parsed"
      ],
      "metadata": {
        "id": "6Yopu_bojcry"
      },
      "execution_count": 7,
      "outputs": []
    },
    {
      "cell_type": "code",
      "source": [
        "from pydantic import BaseModel, Field\n",
        "from typing import Optional, List\n",
        "from enum import Enum\n",
        "\n",
        "class ApplicationType(str, Enum):\n",
        "    CONSENT = \"CONSENT\"\n",
        "    ROOF_REPLACEMENT = \"ROOF REPLACEMENT\"\n",
        "    FENESTRATION_CHANGES = \"FENESTRATION CHANGES\"\n",
        "    ADDITIONS = \"ADDITIONS\"\n",
        "    DEMOLITION = \"DEMOLITION\"\n",
        "    WINDOW_REPLACEMENT = \"WINDOW REPLACEMENT\"\n",
        "    ADU = \"ACCESSORY DWELLING UNIT\"\n",
        "    FRONT_PORCH_CHANGES = \"FRONT PORCH CHANGES\"\n",
        "\n",
        "class ApplicationStatus(str, Enum):\n",
        "    NEW = \"NEW\"\n",
        "    NOT_HEARD = \"NOT HEARD\"\n",
        "    CONTINUED = \"CONTINUED\"\n",
        "    CONSENT = \"CONSENT\"\n",
        "\n",
        "class Applicant(BaseModel):\n",
        "    first_name: str\n",
        "    last_name: str\n",
        "\n",
        "class Property(BaseModel):\n",
        "    address: str\n",
        "    pid: str\n",
        "    district: str\n",
        "\n",
        "class HDCApplication(BaseModel):\n",
        "    application_id: str = Field(..., description=\"HDC Application ID (e.g., HDCRMI-2025-00007)\")\n",
        "    applicants: List[Applicant]\n",
        "    property: Property\n",
        "    application_type: ApplicationType\n",
        "    status: ApplicationStatus\n",
        "    status_details: Optional[str] = Field(None, description=\"Additional status information like meeting dates\")\n",
        "\n",
        "    class Config:\n",
        "        use_enum_values = True\n",
        "\n",
        "result = extract_structured_data(\"agenda.pdf\", HDCApplication)\n",
        "print(type(result))\n"
      ],
      "metadata": {
        "colab": {
          "base_uri": "https://localhost:8080/"
        },
        "id": "RSWv6OWNjd35",
        "outputId": "44d6299d-94a6-434f-d642-e4eb9363806a"
      },
      "execution_count": 13,
      "outputs": [
        {
          "output_type": "stream",
          "name": "stdout",
          "text": [
            "<class '__main__.HDCApplication'>\n"
          ]
        }
      ]
    },
    {
      "cell_type": "code",
      "source": [
        "result.model_dump()"
      ],
      "metadata": {
        "colab": {
          "base_uri": "https://localhost:8080/"
        },
        "id": "-46xu7tUlRxC",
        "outputId": "d0ddf541-da4c-4516-a41b-27690cdb6d34"
      },
      "execution_count": 15,
      "outputs": [
        {
          "output_type": "execute_result",
          "data": {
            "text/plain": [
              "{'application_id': 'HDCRMI-2025-00007',\n",
              " 'applicants': [{'first_name': 'Debra', 'last_name': 'Glennon'}],\n",
              " 'property': {'address': '1936 Park Rd',\n",
              "  'pid': '12108705',\n",
              "  'district': 'Dilworth'},\n",
              " 'application_type': 'CONSENT',\n",
              " 'status': 'CONSENT',\n",
              " 'status_details': None}"
            ]
          },
          "metadata": {},
          "execution_count": 15
        }
      ]
    }
  ]
}